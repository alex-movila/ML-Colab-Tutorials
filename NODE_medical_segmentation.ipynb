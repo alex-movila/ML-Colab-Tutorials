{
  "nbformat": 4,
  "nbformat_minor": 0,
  "metadata": {
    "kernelspec": {
      "name": "python3",
      "display_name": "Python 3"
    },
    "language_info": {
      "codemirror_mode": {
        "name": "ipython",
        "version": 3
      },
      "file_extension": ".py",
      "mimetype": "text/x-python",
      "name": "python",
      "nbconvert_exporter": "python",
      "pygments_lexer": "ipython3",
      "version": "3.6.8"
    },
    "colab": {
      "name": "train_models.ipynb",
      "provenance": [],
      "collapsed_sections": [],
      "include_colab_link": true
    },
    "accelerator": "GPU"
  },
  "cells": [
    {
      "cell_type": "markdown",
      "metadata": {
        "id": "view-in-github",
        "colab_type": "text"
      },
      "source": [
        "<a href=\"https://colab.research.google.com/github/alex-movila/ML-Colab-Tutorials/blob/master/NODE_medical_segmentation.ipynb\" target=\"_parent\"><img src=\"https://colab.research.google.com/assets/colab-badge.svg\" alt=\"Open In Colab\"/></a>"
      ]
    },
    {
      "cell_type": "markdown",
      "metadata": {
        "id": "nZ2UqqvEwJbm",
        "colab_type": "text"
      },
      "source": [
        "# Neural Ordinary Differential Equations for Semantic Segmentation of Individual Colon Glands\n",
        "\n",
        "Automated medical image segmentation plays a key role in quantitative research and diagnostics. Convolutional neural networks based on the U-Net architecture are the state-of-the-art. A key disadvantage is the hard-coding of the receptive field size, which requires architecture optimization for each segmentation task. Furthermore, increasing the receptive field results in an increasing number of weights. Recently, Neural Ordinary Differential Equations (NODE) have been proposed, a new type of continuous depth deep neural network. This framework allows for a dynamic receptive field at a constant memory cost and a smaller amount of parameters. We show on a colon gland segmentation dataset (GlaS) that these NODEs can be used within the U-Net framework to improve segmentation results while reducing memory load and parameter counts.\n",
        "\n",
        "ArXiv: https://arxiv.org/abs/1910.10470\n",
        "\n",
        "*Accepted to Medical Imaging meets NeurIPS workshop at NeurIPS 2019*\n",
        "\n",
        "###◢ Verify Correct Runtime Settings\n",
        "\n",
        "**<font color='#FF000'> IMPORTANT </font>**\n",
        "\n",
        "In the \"Runtime\" menu for the notebook window, select \"Change runtime type.\" Ensure that the following are selected:\n",
        "* Runtime Type = Python 3\n",
        "* Hardware Accelerator = GPU \n"
      ]
    },
    {
      "cell_type": "markdown",
      "metadata": {
        "id": "NeCFXLBHstEG",
        "colab_type": "text"
      },
      "source": [
        "# Change these flags to train a specific model"
      ]
    },
    {
      "cell_type": "code",
      "metadata": {
        "id": "geqSL0eAstEQ",
        "colab_type": "code",
        "colab": {}
      },
      "source": [
        "TRAIN_RESNET = False\n",
        "TRAIN_UNODE = True\n",
        "TRAIN_UNET = False\n",
        "\n",
        "def get_title():\n",
        "    if TRAIN_UNODE: return 'U-NODE'\n",
        "    elif TRAIN_RESNET: return 'RESNET'\n",
        "    elif TRAIN_UNET: return 'UNET'"
      ],
      "execution_count": 0,
      "outputs": []
    },
    {
      "cell_type": "code",
      "metadata": {
        "id": "wVwEhq1ItBwT",
        "colab_type": "code",
        "colab": {}
      },
      "source": [
        "!git clone https://github.com/DIAGNijmegen/neural-odes-segmentation "
      ],
      "execution_count": 0,
      "outputs": []
    },
    {
      "cell_type": "code",
      "metadata": {
        "id": "W4XU0OkFtIwK",
        "colab_type": "code",
        "colab": {}
      },
      "source": [
        "cd neural-odes-segmentation "
      ],
      "execution_count": 0,
      "outputs": []
    },
    {
      "cell_type": "code",
      "metadata": {
        "id": "sL3H-SOhtQ0i",
        "colab_type": "code",
        "colab": {}
      },
      "source": [
        "!pip install git+https://github.com/rtqichen/torchdiffeq"
      ],
      "execution_count": 0,
      "outputs": []
    },
    {
      "cell_type": "markdown",
      "metadata": {
        "id": "Z2JrbLtSstEf",
        "colab_type": "text"
      },
      "source": [
        "---"
      ]
    },
    {
      "cell_type": "code",
      "metadata": {
        "id": "LpRlTQF5stEj",
        "colab_type": "code",
        "colab": {}
      },
      "source": [
        "import os\n",
        "import glob\n",
        "import random\n",
        "\n",
        "import torch\n",
        "import torch.utils.data\n",
        "\n",
        "import PIL\n",
        "import skimage.measure\n",
        "import numpy as np\n",
        "import matplotlib.pyplot as plt\n",
        "\n",
        "from tqdm import tqdm, tqdm_notebook\n",
        "\n",
        "%matplotlib inline\n",
        "\n",
        "from models import ConvODEUNet, ConvResUNet, ODEBlock, Unet\n",
        "from dataloader import GLaSDataLoader\n",
        "from train_utils import plot_losses\n",
        "\n",
        "from IPython.display import clear_output"
      ],
      "execution_count": 0,
      "outputs": []
    },
    {
      "cell_type": "markdown",
      "metadata": {
        "id": "ZE_b8ltYstEw",
        "colab_type": "text"
      },
      "source": [
        "# Commands to download the dataset"
      ]
    },
    {
      "cell_type": "code",
      "metadata": {
        "id": "u96JBc2YstEz",
        "colab_type": "code",
        "colab": {}
      },
      "source": [
        "if not os.path.exists('Warwick QU Dataset (Released 2016_07_08)'):\n",
        "    !wget https://warwick.ac.uk/fac/sci/dcs/research/tia/glascontest/download/warwick_qu_dataset_released_2016_07_08.zip\n",
        "    !unzip warwick_qu_dataset_released_2016_07_08.zip     "
      ],
      "execution_count": 0,
      "outputs": []
    },
    {
      "cell_type": "markdown",
      "metadata": {
        "id": "wNlG04-_stFA",
        "colab_type": "text"
      },
      "source": [
        "## Define datasets"
      ]
    },
    {
      "cell_type": "code",
      "metadata": {
        "id": "ZAk6huDxstFD",
        "colab_type": "code",
        "colab": {}
      },
      "source": [
        "torch.manual_seed(0)\n",
        "\n",
        "val_set_idx = torch.LongTensor(10).random_(0, 85)\n",
        "train_set_idx = torch.arange(0, 85)\n",
        "\n",
        "overlapping = (train_set_idx[..., None] == val_set_idx).any(-1)\n",
        "train_set_idx = torch.masked_select(train_set_idx, ~overlapping)"
      ],
      "execution_count": 0,
      "outputs": []
    },
    {
      "cell_type": "code",
      "metadata": {
        "id": "PNcyjsHHstFK",
        "colab_type": "code",
        "colab": {}
      },
      "source": [
        "trainset = GLaSDataLoader((352, 512), dataset_repeat=1, images=train_set_idx)\n",
        "valset = GLaSDataLoader((352, 512), dataset_repeat=1, images=val_set_idx, validation=True)\n",
        "\n",
        "trainloader = torch.utils.data.DataLoader(trainset, batch_size=1, shuffle=True, num_workers=10)\n",
        "valloader = torch.utils.data.DataLoader(valset, batch_size=1, shuffle=False, num_workers=10)"
      ],
      "execution_count": 0,
      "outputs": []
    },
    {
      "cell_type": "markdown",
      "metadata": {
        "id": "YkG5qRvhstFS",
        "colab_type": "text"
      },
      "source": [
        "# Plotting train data"
      ]
    },
    {
      "cell_type": "code",
      "metadata": {
        "id": "Rp-iGIrfstFT",
        "colab_type": "code",
        "colab": {}
      },
      "source": [
        "fig, ax = plt.subplots(nrows=5, ncols=6, figsize=(24, 15))\n",
        "\n",
        "for y in range(5):\n",
        "    for x in range(3):\n",
        "        sample = trainset[y]\n",
        "        ax[y, x * 2].imshow(sample[0].numpy().transpose(1,2,0))\n",
        "        ax[y, x * 2 + 1].imshow(sample[1][0])\n",
        "        ax[y, x * 2].axis('off')\n",
        "        ax[y, x * 2 + 1].axis('off')\n",
        "\n",
        "plt.show();"
      ],
      "execution_count": 0,
      "outputs": []
    },
    {
      "cell_type": "code",
      "metadata": {
        "id": "gfexbbO4stFZ",
        "colab_type": "code",
        "colab": {}
      },
      "source": [
        "fig, ax = plt.subplots(nrows=1, ncols=3, figsize=(24, 15))\n",
        "\n",
        "sample = trainset[0]\n",
        "ax[1].imshow(sample[1][0].numpy())\n",
        "ax[2].imshow(sample[1].sum(dim=0))\n",
        "ax[0].imshow(sample[0].numpy().transpose(1,2,0))"
      ],
      "execution_count": 0,
      "outputs": []
    },
    {
      "cell_type": "markdown",
      "metadata": {
        "id": "wemeY4nlstFd",
        "colab_type": "text"
      },
      "source": [
        "# Plotting validation data"
      ]
    },
    {
      "cell_type": "code",
      "metadata": {
        "id": "VFOls7Q2stFh",
        "colab_type": "code",
        "colab": {}
      },
      "source": [
        "fig, ax = plt.subplots(nrows=5, ncols=6, figsize=(24, 15))\n",
        "\n",
        "for y in range(5):\n",
        "    for x in range(3):\n",
        "        sample = valset[y]\n",
        "        ax[y, x * 2].imshow(sample[0].numpy().transpose(1,2,0))\n",
        "        ax[y, x * 2 + 1].imshow(sample[1][1])\n",
        "        ax[y, x * 2].axis('off')\n",
        "        ax[y, x * 2 + 1].axis('off')\n",
        "\n",
        "plt.show(); "
      ],
      "execution_count": 0,
      "outputs": []
    },
    {
      "cell_type": "markdown",
      "metadata": {
        "id": "vS5LO2castFm",
        "colab_type": "text"
      },
      "source": [
        "# Define network"
      ]
    },
    {
      "cell_type": "code",
      "metadata": {
        "id": "UgPGk6cZstFn",
        "colab_type": "code",
        "colab": {}
      },
      "source": [
        "device = torch.device('cuda')\n",
        "\n",
        "if TRAIN_UNODE:\n",
        "    net = ConvODEUNet(num_filters=16, output_dim=2, time_dependent=True, \n",
        "                      non_linearity='lrelu', adjoint=True, tol=1e-3)\n",
        "    net.to(device)"
      ],
      "execution_count": 0,
      "outputs": []
    },
    {
      "cell_type": "code",
      "metadata": {
        "id": "PVP6vCskstFs",
        "colab_type": "code",
        "colab": {}
      },
      "source": [
        "if TRAIN_RESNET:\n",
        "    net = ConvResUNet(num_filters=16, output_dim=2, non_linearity='lrelu')\n",
        "    net.to(device)"
      ],
      "execution_count": 0,
      "outputs": []
    },
    {
      "cell_type": "code",
      "metadata": {
        "id": "a3i6ZoXLstFz",
        "colab_type": "code",
        "colab": {}
      },
      "source": [
        "if TRAIN_UNET:\n",
        "    net = Unet(depth=5, num_filters=64, output_dim=2).cuda()\n",
        "    net.to(device)"
      ],
      "execution_count": 0,
      "outputs": []
    },
    {
      "cell_type": "markdown",
      "metadata": {
        "id": "nWyekPGPstF2",
        "colab_type": "text"
      },
      "source": [
        "---"
      ]
    },
    {
      "cell_type": "code",
      "metadata": {
        "id": "QoaYGughstF3",
        "colab_type": "code",
        "colab": {}
      },
      "source": [
        "for m in net.modules():\n",
        "    if isinstance(m, torch.nn.Conv2d):\n",
        "        torch.nn.init.kaiming_normal_(m.weight)\n",
        "        torch.nn.init.constant_(m.bias, 0)"
      ],
      "execution_count": 0,
      "outputs": []
    },
    {
      "cell_type": "code",
      "metadata": {
        "id": "aUdF8rW4stF6",
        "colab_type": "code",
        "colab": {}
      },
      "source": [
        "def count_parameters(model):\n",
        "    return sum(p.numel() for p in model.parameters() if p.requires_grad)"
      ],
      "execution_count": 0,
      "outputs": []
    },
    {
      "cell_type": "code",
      "metadata": {
        "id": "hwHLZ6qzstF9",
        "colab_type": "code",
        "colab": {}
      },
      "source": [
        "count_parameters(net)"
      ],
      "execution_count": 0,
      "outputs": []
    },
    {
      "cell_type": "markdown",
      "metadata": {
        "id": "V08v0GYsstF_",
        "colab_type": "text"
      },
      "source": [
        "# Train model"
      ]
    },
    {
      "cell_type": "code",
      "metadata": {
        "id": "vaLdBooHstGB",
        "colab_type": "code",
        "colab": {}
      },
      "source": [
        "criterion = torch.nn.BCEWithLogitsLoss()\n",
        "val_criterion = torch.nn.BCEWithLogitsLoss()\n",
        "\n",
        "if TRAIN_UNET:\n",
        "    cross_entropy = torch.nn.BCEWithLogitsLoss()\n",
        "\n",
        "    def criterion(conf, labels):\n",
        "        out_shape = conf.shape[2:4]\n",
        "        label_shape = labels.shape[2:4]\n",
        "\n",
        "        w = (label_shape[1] - out_shape[1]) // 2\n",
        "        h = (label_shape[1] - out_shape[1]) // 2\n",
        "        dh, dw = out_shape[0:2]\n",
        "\n",
        "        conf_loss_ce = cross_entropy(conf, labels[:, :, h:h+dh, w:w+dw])\n",
        "\n",
        "        return conf_loss_ce"
      ],
      "execution_count": 0,
      "outputs": []
    },
    {
      "cell_type": "code",
      "metadata": {
        "id": "SnnfflYLstGG",
        "colab_type": "code",
        "colab": {}
      },
      "source": [
        "optimizer = torch.optim.Adam(net.parameters(), lr=1e-4)"
      ],
      "execution_count": 0,
      "outputs": []
    },
    {
      "cell_type": "code",
      "metadata": {
        "id": "tuxV-YG1stGJ",
        "colab_type": "code",
        "colab": {}
      },
      "source": [
        "torch.backends.cudnn.benchmark = True"
      ],
      "execution_count": 0,
      "outputs": []
    },
    {
      "cell_type": "code",
      "metadata": {
        "id": "CAQIs8BJstGM",
        "colab_type": "code",
        "colab": {}
      },
      "source": [
        "losses = []\n",
        "val_losses = []\n",
        "nfe = [[],[],[],[],[],[],[],[],[]] if TRAIN_UNODE else None"
      ],
      "execution_count": 0,
      "outputs": []
    },
    {
      "cell_type": "code",
      "metadata": {
        "id": "S32DQxGqstGR",
        "colab_type": "code",
        "colab": {}
      },
      "source": [
        "accumulate_batch = 8  # mini-batch size by gradient accumulation\n",
        "accumulated = 0\n",
        "\n",
        "if TRAIN_RESNET: filename = 'best_border_resnet_model.pt'\n",
        "elif TRAIN_UNODE: filename = 'best_border_unode_model.pt'\n",
        "elif TRAIN_UNET: filename = 'best_border_unet_model.pt'\n",
        "\n",
        "def run(lr=1e-3, epochs=100):\n",
        "    accumulated = 0\n",
        "    for param_group in optimizer.param_groups:\n",
        "        param_group['lr'] = lr\n",
        "\n",
        "    for epoch in range(epochs):\n",
        "        \n",
        "        # training loop with gradient accumulation\n",
        "        running_loss = 0.0\n",
        "        optimizer.zero_grad()\n",
        "        for data in tqdm(trainloader):\n",
        "            inputs, labels = data[0].cuda(), data[1].cuda()\n",
        "            outputs = net(inputs)\n",
        "            loss = criterion(outputs, labels) / accumulate_batch\n",
        "            loss.backward()\n",
        "            accumulated += 1\n",
        "            if accumulated == accumulate_batch:\n",
        "                optimizer.step()\n",
        "                optimizer.zero_grad()\n",
        "                accumulated = 0\n",
        "\n",
        "            running_loss += loss.item() * accumulate_batch\n",
        "\n",
        "        losses.append(running_loss / len(trainloader))\n",
        "        \n",
        "        # validation loop\n",
        "        with torch.no_grad():\n",
        "            running_loss = 0.0\n",
        "            for data in valloader:\n",
        "                inputs, labels = data[0].cuda(), data[1].cuda()\n",
        "                outputs = net(inputs)\n",
        "                loss = criterion(outputs, labels)\n",
        "                running_loss += loss.item()\n",
        "\n",
        "            val_losses.append(running_loss / len(valloader))\n",
        "            if np.argmin(val_losses) == len(val_losses) - 1 and loss < 0.4:\n",
        "                torch.save(net, filename)\n",
        "                \n",
        "            clear_output(wait=True)\n",
        "            plot_losses(inputs, outputs, losses, val_losses, get_title(), nfe, net=net)"
      ],
      "execution_count": 0,
      "outputs": []
    },
    {
      "cell_type": "code",
      "metadata": {
        "id": "ADfFaUffstGZ",
        "colab_type": "code",
        "colab": {}
      },
      "source": [
        "if TRAIN_UNODE or TRAIN_RESNET: lr = 1e-3 \n",
        "else: lr = 1e-4\n",
        "\n",
        "run(lr, 600 - len(losses))"
      ],
      "execution_count": 0,
      "outputs": []
    },
    {
      "cell_type": "markdown",
      "metadata": {
        "id": "epXxTJiXstGb",
        "colab_type": "text"
      },
      "source": [
        "# Calculate results"
      ]
    },
    {
      "cell_type": "code",
      "metadata": {
        "id": "hvpTIA4CstGc",
        "colab_type": "code",
        "colab": {}
      },
      "source": [
        "# load best model\n",
        "net = torch.load(filename)"
      ],
      "execution_count": 0,
      "outputs": []
    },
    {
      "cell_type": "code",
      "metadata": {
        "id": "EyXc_XgbstGh",
        "colab_type": "code",
        "colab": {}
      },
      "source": [
        "with torch.no_grad():\n",
        "    running_loss = 0.0\n",
        "    for data in tqdm(valloader):\n",
        "        inputs, labels = data[0].cuda(), data[1].cuda()\n",
        "        outputs = net(inputs)\n",
        "        loss = criterion(outputs, labels)\n",
        "        running_loss += loss.item()\n",
        "\n",
        "    print(\"Check validation loss:\", running_loss / len(valloader))"
      ],
      "execution_count": 0,
      "outputs": []
    },
    {
      "cell_type": "markdown",
      "metadata": {
        "id": "-p7oo5N8stGl",
        "colab_type": "text"
      },
      "source": [
        "# Visualize results on validation set"
      ]
    },
    {
      "cell_type": "code",
      "metadata": {
        "id": "KmeypSVkstGo",
        "colab_type": "code",
        "colab": {}
      },
      "source": [
        "from inference_utils import inference_image, postprocess"
      ],
      "execution_count": 0,
      "outputs": []
    },
    {
      "cell_type": "code",
      "metadata": {
        "id": "WEAynKeBstGs",
        "colab_type": "code",
        "colab": {}
      },
      "source": [
        "fig, ax = plt.subplots(nrows=5, ncols=3, figsize=(4*3,3*5))\n",
        "\n",
        "ax[0, 0].set_title('Image')\n",
        "ax[0, 1].set_title('Ground-truth')\n",
        "ax[0, 2].set_title(get_title())\n",
        "\n",
        "for col in range(3):\n",
        "    for row in range(5):\n",
        "        index = val_set_idx[row]\n",
        "        image = PIL.Image.open(f'Warwick QU Dataset (Released 2016_07_08)/train_{index}.bmp')\n",
        "        gt = PIL.Image.open(f'Warwick QU Dataset (Released 2016_07_08)/train_{index}_anno.bmp')\n",
        "        \n",
        "        with torch.no_grad():\n",
        "            result, input_image = inference_image(net, image, shouldpad=TRAIN_UNET)\n",
        "            result = postprocess(result, gt)\n",
        "        if col == 0:\n",
        "            ax[row, col].imshow(image)\n",
        "        elif col == 1:\n",
        "            ax[row, col].imshow(np.array(gt) > 0)\n",
        "        else:\n",
        "            ax[row, col].imshow(image)\n",
        "            ax[row, col].imshow(result, alpha=0.5)\n",
        "                \n",
        "        ax[row, col].set_axis_off()\n",
        "\n",
        "plt.show(); "
      ],
      "execution_count": 0,
      "outputs": []
    },
    {
      "cell_type": "markdown",
      "metadata": {
        "id": "h7cCHo9istGu",
        "colab_type": "text"
      },
      "source": [
        "# Calculate metrics on test set"
      ]
    },
    {
      "cell_type": "code",
      "metadata": {
        "id": "OW68s1PHstGu",
        "colab_type": "code",
        "colab": {}
      },
      "source": [
        "from metrics import ObjectDice, ObjectHausdorff, F1score"
      ],
      "execution_count": 0,
      "outputs": []
    },
    {
      "cell_type": "code",
      "metadata": {
        "id": "9voa_0Z_stGz",
        "colab_type": "code",
        "colab": {}
      },
      "source": [
        "TEST_RESNET = False\n",
        "TEST_UNODE = True\n",
        "TEST_UNET = False"
      ],
      "execution_count": 0,
      "outputs": []
    },
    {
      "cell_type": "code",
      "metadata": {
        "id": "kTVgpCbrstG2",
        "colab_type": "code",
        "colab": {}
      },
      "source": [
        "if TEST_UNODE: net = torch.load('best_border_unode_model.pt')\n",
        "elif TEST_RESNET: net = torch.load('best_border_resnet_model.pt')\n",
        "elif TEST_UNET: net = torch.load('best_border_unet_model.pt')"
      ],
      "execution_count": 0,
      "outputs": []
    },
    {
      "cell_type": "code",
      "metadata": {
        "id": "wR8kGd0jstG5",
        "colab_type": "code",
        "colab": {}
      },
      "source": [
        "dice, hausdorff, f1, dice_full = 0, 0, 0, 0\n",
        "\n",
        "if TEST_UNODE: folder = 'results_unode'\n",
        "elif TEST_UNET: folder = 'results_unet'\n",
        "elif TEST_RESNET: folder = 'results_resnet'\n",
        "    \n",
        "images = []\n",
        "for index in np.arange(1, 81):\n",
        "    if index < 61: images.append(f'testA_{index}_anno.bmp')\n",
        "    else: images.append(f'testB_{index - 60}_anno.bmp')\n",
        "        \n",
        "for i, fname in tqdm_notebook(enumerate(images), total=80):\n",
        "    gt = PIL.Image.open(f'Warwick QU Dataset (Released 2016_07_08)/' + fname)\n",
        "    image = PIL.Image.open(f'Warwick QU Dataset (Released 2016_07_08)/' + fname.replace('_anno', ''))\n",
        "    \n",
        "    result, resized = inference_image(net, image, shouldpad=TEST_UNET)\n",
        "    result = postprocess(result, gt)\n",
        "\n",
        "    gt = skimage.measure.label(np.array(gt))\n",
        "    \n",
        "    f1_img = F1score(result, gt)\n",
        "    hausdorff_img = ObjectHausdorff(result, gt)\n",
        "    dice_img = ObjectDice(result, gt)\n",
        "    \n",
        "    f1 += f1_img\n",
        "    hausdorff += hausdorff_img\n",
        "    dice += dice_img\n",
        "\n",
        "    if i == 59:        \n",
        "        diceA = dice \n",
        "        hausdorffA = hausdorff \n",
        "        f1A = f1\n",
        "\n",
        "    print(i, f1_img, hausdorff_img, dice_img)\n",
        "\n",
        "diceB = dice - diceA\n",
        "hausdorffB = hausdorff - hausdorffA\n",
        "f1B = f1 - f1A\n",
        "\n",
        "print('ObjectDice:', dice / 80, 'A', diceA / 60, 'B', diceB / 20)\n",
        "print('Hausdorff:', hausdorff / 80, 'A', hausdorffA / 60, 'B', hausdorffB / 20)\n",
        "print('F1:', f1 / 80, 'A', f1A / 60, 'B', f1B / 20)"
      ],
      "execution_count": 0,
      "outputs": []
    },
    {
      "cell_type": "code",
      "metadata": {
        "id": "09ZcgWI4stG7",
        "colab_type": "code",
        "colab": {}
      },
      "source": [
        ""
      ],
      "execution_count": 0,
      "outputs": []
    }
  ]
}